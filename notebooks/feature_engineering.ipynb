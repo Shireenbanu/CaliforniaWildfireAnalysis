{
 "cells": [
  {
   "cell_type": "markdown",
   "id": "e95474f5",
   "metadata": {},
   "source": [
    "1. Drop the highly correlated"
   ]
  }
 ],
 "metadata": {
  "language_info": {
   "name": "python"
  }
 },
 "nbformat": 4,
 "nbformat_minor": 5
}
